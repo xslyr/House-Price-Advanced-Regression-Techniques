{
 "cells": [
  {
   "cell_type": "code",
   "execution_count": 1,
   "id": "d9bd7df6",
   "metadata": {},
   "outputs": [
    {
     "name": "stdout",
     "output_type": "stream",
     "text": [
      "\n",
      "Dataframe de Treinamento: train.csv (1460 linhas e 80 colunas)\n"
     ]
    }
   ],
   "source": [
    "import pandas as pd\n",
    "import matplotlib.pyplot as plt \n",
    "import warnings\n",
    "\n",
    "warnings.filterwarnings('ignore')\n",
    "pd.set_option('display.max_columns', None)\n",
    "\n",
    "df = pd.read_csv('General_Files/train.csv')\n",
    "df = df.drop(['Id'],axis=1)\n",
    "print('\\nDataframe de Treinamento: train.csv ({} linhas e {} colunas)'.format(df.shape[0],df.shape[1]))\n"
   ]
  },
  {
   "cell_type": "markdown",
   "id": "11f92587",
   "metadata": {},
   "source": [
    "### Transforming MSSubClass to categorical data"
   ]
  },
  {
   "cell_type": "code",
   "execution_count": 2,
   "id": "f3fc561b",
   "metadata": {},
   "outputs": [
    {
     "name": "stdout",
     "output_type": "stream",
     "text": [
      "Type before convertion is int64. Now MSSubClass data type is object\n"
     ]
    }
   ],
   "source": [
    "before = df['MSSubClass'].dtype\n",
    "df[ 'MSSubClass' ] = df['MSSubClass'].astype(str)\n",
    "after = df[ 'MSSubClass' ].dtype\n",
    "print('Type before convertion is {}. Now MSSubClass data type is {}'.format(before,after))"
   ]
  },
  {
   "cell_type": "markdown",
   "id": "9fb8d77a",
   "metadata": {},
   "source": [
    "### Transforming nan values to 'NA' data"
   ]
  },
  {
   "cell_type": "code",
   "execution_count": 3,
   "id": "2ae9d598",
   "metadata": {},
   "outputs": [
    {
     "name": "stdout",
     "output_type": "stream",
     "text": [
      "Here is the columns that must convert nan to NA value:\n",
      "\tBsmtExposure: ['Av' 'Gd' 'Mn' 'No' nan]\n",
      "\tGarageType: ['2Types' 'Attchd' 'Basment' 'BuiltIn' 'CarPort' 'Detchd' nan]\n",
      "\tBsmtQual: ['Ex' 'Fa' 'Gd' 'TA' nan]\n",
      "\tBsmtFinType1: ['ALQ' 'BLQ' 'GLQ' 'LwQ' 'Rec' 'Unf' nan]\n",
      "\tFireplaceQu: ['Ex' 'Fa' 'Gd' 'Po' 'TA' nan]\n",
      "\tGarageFinish: ['Fin' 'RFn' 'Unf' nan]\n",
      "\n",
      "These is after convertion:\n",
      "\tBsmtExposure: ['Av' 'Gd' 'Mn' 'NA' 'No']\n",
      "\tGarageType: ['2Types' 'Attchd' 'Basment' 'BuiltIn' 'CarPort' 'Detchd' 'NA']\n",
      "\tBsmtQual: ['Ex' 'Fa' 'Gd' 'NA' 'TA']\n",
      "\tBsmtFinType1: ['ALQ' 'BLQ' 'GLQ' 'LwQ' 'NA' 'Rec' 'Unf']\n",
      "\tFireplaceQu: ['Ex' 'Fa' 'Gd' 'NA' 'Po' 'TA']\n",
      "\tGarageFinish: ['Fin' 'NA' 'RFn' 'Unf']\n"
     ]
    }
   ],
   "source": [
    "NA_fields = ['BsmtExposure','GarageType','BsmtQual','BsmtFinType1','FireplaceQu','GarageFinish']\n",
    "\n",
    "print('Here is the columns that must convert nan to NA value:')\n",
    "for col in NA_fields:\n",
    "    print('\\t{}: {}'.format(col, df[col].sort_values().unique()))\n",
    "\n",
    "df[NA_fields] = df[NA_fields].fillna('NA')\n",
    "print('\\nThese is after convertion:')\n",
    "for col in NA_fields:\n",
    "    print('\\t{}: {}'.format(col, df[col].sort_values().unique()))\n"
   ]
  },
  {
   "cell_type": "code",
   "execution_count": null,
   "id": "1a228346",
   "metadata": {},
   "outputs": [],
   "source": []
  },
  {
   "cell_type": "code",
   "execution_count": null,
   "id": "3c4a2bbd",
   "metadata": {},
   "outputs": [],
   "source": []
  }
 ],
 "metadata": {
  "kernelspec": {
   "display_name": "Python 3 (ipykernel)",
   "language": "python",
   "name": "python3"
  },
  "language_info": {
   "codemirror_mode": {
    "name": "ipython",
    "version": 3
   },
   "file_extension": ".py",
   "mimetype": "text/x-python",
   "name": "python",
   "nbconvert_exporter": "python",
   "pygments_lexer": "ipython3",
   "version": "3.8.10"
  }
 },
 "nbformat": 4,
 "nbformat_minor": 5
}
